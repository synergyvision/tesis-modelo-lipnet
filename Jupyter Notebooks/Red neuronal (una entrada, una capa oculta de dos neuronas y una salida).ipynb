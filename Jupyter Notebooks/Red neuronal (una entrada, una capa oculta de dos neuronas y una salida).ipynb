{
 "cells": [
  {
   "cell_type": "markdown",
   "metadata": {},
   "source": [
    "# Red neuronal\n",
    "Se busca recrear la siguiente configuración de una red neuronal:\n",
    "<img src=red_neuronal.png height=440 width=440>\n"
   ]
  },
  {
   "cell_type": "markdown",
   "metadata": {},
   "source": [
    "Para ello se creó la `clase Neuron`, en esta clase se establece la estructura que tendrá cada neurona de la red,\n",
    "y se definen los métodos de la misma. A continuación se describen cada uno de los métodos:\n",
    "\n",
    "- `init` es el constructor de la clase, recibe un parámetro `n` que indica la cantidad de `pesos (w)` que tendrá la neurona, también se define el `sesgo (b)` de la neurona, todos estos valores son arbitrarios, además se declara la variable `x` que representa los valores de entrada de la neurona.\n",
    "- `linear` es la función de activación.\n",
    "- `forward` es la fase de estimación que le aplica la función de activación a la entrada multiplicada por los parámetros y suma el sesgo.\n",
    "- `error` es la función que calcula el error cuadrático entre el valor estimado y el valor observado en los datos. En este caso la función de error es: $\\sum_{i=1}^{n}(\\hat{y_{i}}-y_{i})^{^{2}}$\n",
    "- `set_inputs` asigna el valor de entrada a la neurona.\n",
    "- `set_weights` asigna los pesos a la neurona.\n",
    "- `get_weights` obtienen los pesos y sesgo actuales."
   ]
  },
  {
   "cell_type": "code",
   "execution_count": 2,
   "metadata": {},
   "outputs": [],
   "source": [
    "import numpy as np\n",
    "from random import random\n",
    "\n",
    "class Neuron:\n",
    "    def __init__(self,n):\n",
    "        self.w = [random() for i in range(n)]\n",
    "        self.b = random()\n",
    "        self.x = []\n",
    "    \n",
    "    def linear(self, x):\n",
    "        return x\n",
    "\n",
    "    def forward(self):\n",
    "        yEst = self.linear(np.dot(self.w, self.x) + self.b)\n",
    "        return yEst\n",
    "\n",
    "    def error(self, yEst, y):\n",
    "        return np.power(yEst-y, 2)\n",
    "    \n",
    "    def set_inputs(self, x):\n",
    "        self.x = x\n",
    "    \n",
    "    def set_weights(self, w, b):\n",
    "        self.w = w\n",
    "        self.b = b\n",
    "    \n",
    "    def get_weights(self):\n",
    "        return self.w, self.b"
   ]
  },
  {
   "cell_type": "markdown",
   "metadata": {},
   "source": [
    "Luego de definir la clase `Neuron`, se declararon dos objetos de esta clase con un número de pesos `w` igual a 1, por ser las neuronas de la capa oculta y una neurona de salida con un número de pesos igual a 2. Luego se creó el ciclo principal el cual se ejecuta a lo sumo un `numIter` de veces. Se declara una variable `i` para saber cual valor de los datos tomar y cual valor observado tomar para evaluar el error. \n",
    "\n",
    "El proceso consiste en el siguiente ciclo:\n",
    "\n",
    "- Se le asignan a las neuronas de la capa oculta el dato de entrada que corresponda `xList[i]`.\n",
    "- Se realiza el paso de estimación denominado `forward`, el cual es ejecutado por las dos neuronas de la capa oculta.\n",
    "- Estos resultados serán la entrada de la neurona de salida por lo tanto se le asignan.\n",
    "- La neurona de salida realiza nuevamente el paso `forward` para obtener `yEst`.\n",
    "- Se calculan los gradientes que consiste en calcular la derivada de la función de error con respecto a `w` y con respecto a `b`.\n",
    "- Se aplica el paso de ajuste y se asignan los nuevos pesos a la neurona.\n",
    "- Se calculan los gradientes pero esta vez de las neuronas de la capa oculta para luego ajustar los pesos de las mismas.\n",
    "\n",
    "Los datos de entrada corresponden a la función lineal $f(x)=2x-10$."
   ]
  },
  {
   "cell_type": "code",
   "execution_count": 4,
   "metadata": {},
   "outputs": [],
   "source": [
    "echo = False\n",
    "\n",
    "#Taza de aprendizaje\n",
    "alpha = 0.009\n",
    "\n",
    "# Datos de entrada\n",
    "xList = [-5,  -4,  -3,  -2,  -1,   0,  1,  2,  3,  4, 5, 6, 7]\n",
    "yList = [-20, -18, -16, -14, -12, -10, -8, -6, -4, -2, 0, 2, 4]\n",
    "\n",
    "numIter = 200\n",
    "sizeOfData = np.size(xList)\n",
    "\n",
    "#Neurona 1\n",
    "neuron1 = Neuron(1)\n",
    "\n",
    "#Neurona 2\n",
    "neuron2 = Neuron(1)\n",
    "\n",
    "#Neurona de salida\n",
    "neuron_S = Neuron(2)\n",
    "\n",
    "for z in range(numIter):\n",
    "    i = z % sizeOfData\n",
    "    \n",
    "    #Asignando datos de entrada a las neuronas\n",
    "    neuron1.set_inputs([xList[i]])\n",
    "    neuron2.set_inputs([xList[i]])\n",
    "\n",
    "    #Salidas de las primeras neuronas\n",
    "    outputs = [neuron1.forward(), neuron2.forward()]\n",
    "\n",
    "    #Asignando datos de entrada a la neurona de salida\n",
    "    neuron_S.set_inputs(outputs)\n",
    "    #Calculo de Y estimado\n",
    "    yEst = neuron_S.forward()\n",
    "    \n",
    "    if echo:\n",
    "        print(\"yEst: \"+str(yEst), \"yObs: \"+str(yList[i]), \"Error :\"+str(np.power(yEst-yList[i], 2)))\n",
    "        \n",
    "    gradientes_s = []\n",
    "    \n",
    "    #Coste\n",
    "    coste = 2*(yEst-yList[i])\n",
    "\n",
    "    #Gradientes de la última neurona\n",
    "    for x in range(len(outputs)):\n",
    "        dE_w = coste*outputs[x]\n",
    "        gradientes_s.append(dE_w)\n",
    "    \n",
    "    wS, bS = neuron_S.get_weights()\n",
    "    \n",
    "    #Guardando pesos de la última neurona\n",
    "    wO = []\n",
    "    for l in wS:\n",
    "        wO.append(l)\n",
    "    \n",
    "    #Ajuste de cada uno de los pesos de la última neurona\n",
    "    for k in range(len(wS)):\n",
    "        wS[k] -= gradientes_s[k] * alpha\n",
    "    bS = bS - (coste*alpha)\n",
    "    \n",
    "    #Se asignan los nuevos pesos de la última neurona\n",
    "    neuron_S.set_weights(wS,bS)\n",
    "\n",
    "    gradiente_p = []\n",
    "    gradiente_b = []\n",
    "    \n",
    "    #Se calculan los gradientes de la capa oculta\n",
    "    for j in range(len(wO)):\n",
    "        dE_w = coste * wO[j] * xList[i]\n",
    "        dE_b = coste * wO[j]\n",
    "        gradiente_p.append(dE_w)\n",
    "        gradiente_b.append(dE_b)\n",
    "    \n",
    "    #Se ajustan sus pesos\n",
    "    w, b = neuron1.get_weights()\n",
    "    w2, b2 = neuron2.get_weights()\n",
    "    \n",
    "    w = w - (gradiente_p[0]*alpha)\n",
    "    b = b - (gradiente_b[0]*alpha)\n",
    "\n",
    "    w2 = w2 - (gradiente_p[1]*alpha)\n",
    "    b2 = b2 - (gradiente_b[1]*alpha)\n",
    "    \n",
    "    #Se asignan los nuevos pesos a las neuronas\n",
    "    neuron1.set_weights(w,b)\n",
    "    neuron2.set_weights(w2,b2)"
   ]
  },
  {
   "cell_type": "markdown",
   "metadata": {},
   "source": [
    "Para comprobar el funcionamiento de la red se pide calcular el valor estimado de una nueva entrada en este caso $8$, para esta entrada la función $f(x)=2x-10$ da como resultado $6$."
   ]
  },
  {
   "cell_type": "code",
   "execution_count": 5,
   "metadata": {},
   "outputs": [
    {
     "name": "stdout",
     "output_type": "stream",
     "text": [
      "5.999999999931945\n"
     ]
    }
   ],
   "source": [
    "#Asignando datos de entrada a las neuronas\n",
    "neuron1.set_inputs([8])\n",
    "neuron2.set_inputs([8])\n",
    "\n",
    "#Salidas de las primeras neuronas\n",
    "outputs = [neuron1.forward(), neuron2.forward()]\n",
    "neuron_S.set_inputs(outputs)\n",
    "yEst = neuron_S.forward()\n",
    "\n",
    "print(yEst)"
   ]
  }
 ],
 "metadata": {
  "kernelspec": {
   "display_name": "Python 3",
   "language": "python",
   "name": "python3"
  },
  "language_info": {
   "codemirror_mode": {
    "name": "ipython",
    "version": 3
   },
   "file_extension": ".py",
   "mimetype": "text/x-python",
   "name": "python",
   "nbconvert_exporter": "python",
   "pygments_lexer": "ipython3",
   "version": "3.7.4"
  }
 },
 "nbformat": 4,
 "nbformat_minor": 2
}
